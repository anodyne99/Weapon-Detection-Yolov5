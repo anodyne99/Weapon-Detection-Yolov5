{
  "cells": [
    {
      "cell_type": "markdown",
      "metadata": {
        "id": "view-in-github",
        "colab_type": "text"
      },
      "source": [
        "<a href=\"https://colab.research.google.com/github/anodyne99/Weapon-Detection-Yolov5/blob/main/YoloV5_Weapon_Detection.ipynb\" target=\"_parent\"><img src=\"https://colab.research.google.com/assets/colab-badge.svg\" alt=\"Open In Colab\"/></a>"
      ]
    },
    {
      "cell_type": "markdown",
      "metadata": {
        "id": "JZyT3ooQOpdD"
      },
      "source": [
        "### REQUIRED INITIAL STEPS"
      ]
    },
    {
      "cell_type": "code",
      "execution_count": null,
      "metadata": {
        "id": "qavNkXzQ3O5p"
      },
      "outputs": [],
      "source": [
        "!git clone https://github.com/ultralytics/yolov5\n",
        "%cd yolov5\n",
        "%pip install -q -U roboflow\n",
        "%pip install -r requirements.txt\n",
        "\n",
        "import torch\n",
        "import os\n",
        "from IPython.display import Image, clear_output\n",
        "\n",
        "\n",
        "## Purely to check to make sure you're on a GPU. Training and detection performance is suboptimal without it.\n",
        "print(f\"Using torch {torch.__version__} ({torch.cuda.get_device_properties(0).name if torch.cuda.is_available() else 'CPU'})\")"
      ]
    },
    {
      "cell_type": "code",
      "execution_count": null,
      "metadata": {
        "id": "Iue3FD4sPrC1"
      },
      "outputs": [],
      "source": [
        "from google.colab import drive\n",
        "drive.mount('/content/drive', force_remount = True)\n",
        "os.environ[\"DATASET_DIRECTORY\"] = \"/content/datasets\""
      ]
    },
    {
      "cell_type": "markdown",
      "metadata": {
        "id": "MekeO6XmOv8v"
      },
      "source": [
        "#### REQUIRED FOR FRESH TRAINING AND ANY TIME A LOCAL DETECTION ISN'T BEING EXECUTED"
      ]
    },
    {
      "cell_type": "code",
      "execution_count": null,
      "metadata": {
        "colab": {
          "background_save": true
        },
        "id": "GBdRz1zJ-rmG"
      },
      "outputs": [],
      "source": [
        "from roboflow import Roboflow\n",
        "rf = Roboflow(api_key=\"mRU23tAr1sKN2UOIokAG\")\n",
        "project = rf.workspace(\"umkc-490-spring-2022\").project(\"weapon-detection-nicpz\")\n",
        "dataset = project.version(2).download(\"yolov5\")"
      ]
    },
    {
      "cell_type": "markdown",
      "metadata": {
        "id": "e0GbVvE_6iep"
      },
      "source": [
        "### IF STARTING A FRESH TRAINING RUN"
      ]
    },
    {
      "cell_type": "code",
      "execution_count": null,
      "metadata": {
        "id": "PMQjeIwp5Auv"
      },
      "outputs": [],
      "source": [
        "## Counterintuitively, ultralytics recommends higher batch size, at least 64.\n",
        "## Also, the training automatically stops if loss is plateauing for 100 epochs.\n",
        "\n",
        "!python train.py --img 736 --batch 64 --epochs 500 --data {dataset.location}/data.yaml --weights yolov5s.pt --cache"
      ]
    },
    {
      "cell_type": "code",
      "execution_count": null,
      "metadata": {
        "id": "acvz3BRDXkW4"
      },
      "outputs": [],
      "source": [
        "#export your model's weights for future use\n",
        "from google.colab import files\n",
        "files.download('./runs/train/exp/weights/best.pt')\n",
        "files.download('./runs/train/exp/weights/last.pt')"
      ]
    },
    {
      "cell_type": "markdown",
      "metadata": {
        "id": "6Uc5VBvO8MdK"
      },
      "source": [
        "### FOR IMPORTING PRETRAINED MODELS"
      ]
    },
    {
      "cell_type": "markdown",
      "metadata": {
        "id": "Ze6R3mz58fos"
      },
      "source": [
        "#### PRETRAINED DEMO MODEL"
      ]
    },
    {
      "cell_type": "code",
      "execution_count": null,
      "metadata": {
        "colab": {
          "base_uri": "https://localhost:8080/"
        },
        "id": "BQwPPoCF8WRp",
        "outputId": "d6553987-1afd-4cbb-9905-6af4ae54e2ed"
      },
      "outputs": [
        {
          "name": "stdout",
          "output_type": "stream",
          "text": [
            "/content/yolov5/weights: Scheme missing.\n"
          ]
        }
      ],
      "source": [
        "#If you're coming from the previous step\n",
        "#Otherwise ignore this\n",
        "\n",
        "!wget -P /content/yolov5/weights"
      ]
    },
    {
      "cell_type": "markdown",
      "metadata": {
        "id": "_DGmBELK8XGR"
      },
      "source": [
        "#### LOCAL WEIGHT MODEL UPLOAD"
      ]
    },
    {
      "cell_type": "code",
      "execution_count": null,
      "metadata": {
        "id": "bQtDg_JexFR_"
      },
      "outputs": [],
      "source": [
        "#Creating the directory\n",
        "%mkdir /content/yolov5/weights\n",
        "\n",
        "#modify the first part of path to wherever you have placed the best.pt in your drive\n",
        "%cp /content/drive/My\\ Drive/Colab\\ project/best.pt /content/yolov5/weights"
      ]
    },
    {
      "cell_type": "markdown",
      "metadata": {
        "id": "st0VXaMB7nan"
      },
      "source": [
        "### DETECTION"
      ]
    },
    {
      "cell_type": "markdown",
      "metadata": {
        "id": "dAtnT0Mw-y6a"
      },
      "source": [
        "YOLOv5 has some quirks where the model expects something in the same size as the training data. It also wants it in a 1:1 ratio, which may require some cropping and resizing if you're using a local model."
      ]
    },
    {
      "cell_type": "markdown",
      "metadata": {
        "id": "_UoLKYbZ9EHO"
      },
      "source": [
        "#### LOCAL MODEL\n"
      ]
    },
    {
      "cell_type": "code",
      "execution_count": null,
      "metadata": {
        "id": "xYFKyJocqkBC"
      },
      "outputs": [],
      "source": [
        "import shutil\n",
        "localFile = input(\"Enter full local file path here:\")\n",
        "%mkdir /content/yolov5/test/\n",
        "shutil.copytree(localFile, '/content/yolov5/test/images')\n",
        "# %cp -av '/content/drive/MyDrive/Colab project/obfuscation pistols' /content/yolov5/test/images\n",
        "\n",
        "!python detect.py --weights /content/yolov5/weights/best.pt --img 736 --conf 0.1 --source /content/yolov5/test/images/"
      ]
    },
    {
      "cell_type": "code",
      "execution_count": null,
      "metadata": {
        "colab": {
          "base_uri": "https://localhost:8080/",
          "height": 35
        },
        "id": "gOTD4jMkvbBc",
        "outputId": "f946ae52-405a-4f5b-c908-7fb75e7414a5"
      },
      "outputs": [
        {
          "data": {
            "application/vnd.google.colaboratory.intrinsic+json": {
              "type": "string"
            },
            "text/plain": [
              "'/content/drive/MyDrive/Colab project/detections'"
            ]
          },
          "execution_count": 9,
          "metadata": {},
          "output_type": "execute_result"
        }
      ],
      "source": [
        "## Useful for saving the detection images for later review\n",
        "\n",
        "shutil.copytree('/content/yolov5/runs/detect/exp', '/content/drive/MyDrive/Colab project/detections')"
      ]
    },
    {
      "cell_type": "markdown",
      "metadata": {
        "id": "mxU0-ZSKPuNP"
      },
      "source": [
        "#### VIDEO DETECTION"
      ]
    },
    {
      "cell_type": "code",
      "execution_count": null,
      "metadata": {
        "id": "pu2byjnTPyTb"
      },
      "outputs": [],
      "source": [
        "## You may use a direct path, a youtube url, a direct http stream, or 0 for webcam\n",
        "\n",
        "#inputVideoPath = input(\"Enter video path here:\")\n",
        "#youtube video prefilled for demonstration\n",
        "\n",
        "!python detect.py --weights /content/yolov5/weights/best.pt --img 736 --conf 0.1 --source '/content/drive/MyDrive/Colab project/New_video.mp4'"
      ]
    },
    {
      "cell_type": "markdown",
      "metadata": {
        "id": "4NRBBjSh9KUR"
      },
      "source": [
        "#### USING PRE-SELECTED DATASET"
      ]
    },
    {
      "cell_type": "code",
      "execution_count": null,
      "metadata": {
        "id": "oyFAPKIm8hmF"
      },
      "outputs": [],
      "source": [
        "!python detect.py --weights /content/yolov5/weights/best.pt --img 736 --conf 0.1 --source {dataset.location}/test/images"
      ]
    },
    {
      "cell_type": "markdown",
      "metadata": {
        "id": "Q03hxP4M9jqG"
      },
      "source": [
        "### OUTPUT RESULTS"
      ]
    },
    {
      "cell_type": "markdown",
      "metadata": {
        "id": "OtZGfN_xCn3F"
      },
      "source": [
        "####IMAGES"
      ]
    },
    {
      "cell_type": "code",
      "execution_count": null,
      "metadata": {
        "colab": {
          "background_save": true
        },
        "id": "09KnAj2o8vHt"
      },
      "outputs": [],
      "source": [
        "import glob\n",
        "\n",
        "path_start = '/content/yolov5/'\n",
        "\n",
        "print('Enter detection results path.')\n",
        "file_name = input('It will be the last line from the previous cell after \"saved to\":')\n",
        "path = path_start + file_name + \"/\"\n",
        "full_path = path + '*.jpg'\n",
        "\n",
        "for imageName in glob.glob(full_path):\n",
        "  display(Image(filename=imageName))\n",
        "  print(\"\\n\")"
      ]
    },
    {
      "cell_type": "markdown",
      "metadata": {
        "id": "OXg68WbGQz_l"
      },
      "source": [
        "#### VIDEO"
      ]
    },
    {
      "cell_type": "markdown",
      "metadata": {
        "id": "AACzpmNHQ4la"
      },
      "source": [
        "Download the video from the local files on the left. Colab video streaming integration is not fully stable and can bloat ipynb files past allotted memory, causing a runtime crash. The detection bounding boxes will be overlaid on the video.\n",
        "\n",
        "These will be stored in /content/yolov5/detect/"
      ]
    }
  ],
  "metadata": {
    "accelerator": "GPU",
    "colab": {
      "machine_shape": "hm",
      "provenance": [],
      "mount_file_id": "1zCNkTuA0Mwi3Tx0IoFo5MVGGggv8Ymmi",
      "authorship_tag": "ABX9TyMNxrogf1XiGtnazLieSd5I",
      "include_colab_link": true
    },
    "kernelspec": {
      "display_name": "Python 3",
      "name": "python3"
    },
    "language_info": {
      "name": "python"
    }
  },
  "nbformat": 4,
  "nbformat_minor": 0
}